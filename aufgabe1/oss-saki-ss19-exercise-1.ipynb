{
 "cells": [
  {
   "cell_type": "markdown",
   "metadata": {
    "pycharm": {
     "metadata": false
    }
   },
   "source": [
    "# SAKI SS19 - adorsys Transaction Classification Challenge"
   ]
  },
  {
   "cell_type": "markdown",
   "metadata": {
    "pycharm": {
     "metadata": false
    }
   },
   "source": [
    "### Objective\n",
    "For a given set of financial transactions, classify each one into one of seven revenue (transaction) categories; these\n",
    "categories are:\n",
    "* Income\n",
    "* Private (cash, deposit, donation, presents)\n",
    "* Living (rent, additional flat expenses, ...)\n",
    "* Standard of living (food, health, children, ...)\n",
    "* Finance (credit, bank costs, insurances, savings)\n",
    "* Traffic (public transport, gas stations, bike, car rent, ...)\n",
    "* Leisure (hobby, sport, vacation, shopping, ...)"
   ]
  },
  {
   "cell_type": "markdown",
   "metadata": {
    "pycharm": {
     "metadata": false
    }
   },
   "source": [
    "### Data Acquisition\n",
    "* We start by importing our data with pandas and we print some information about the dataset.\n",
    "* For aesthetic reasons, the shape and info are commented out. Feel free to uncomment them to have more insights on the data."
   ]
  },
  {
   "cell_type": "code",
   "execution_count": 1,
   "metadata": {
    "pycharm": {
     "is_executing": false,
     "metadata": false,
     "name": "#%%\n"
    }
   },
   "outputs": [],
   "source": [
    "import pandas as pd\n",
    "\n",
    "PATH_TO_DATA = \"data/oss-saki-ss19-exercise-1.csv\"\n",
    "\n",
    "dataSet = pd.read_csv(PATH_TO_DATA, delimiter=';')\n"
   ]
  },
  {
   "cell_type": "markdown",
   "metadata": {
    "pycharm": {
     "metadata": false,
     "name": "#%% md\n"
    }
   },
   "source": [
    "### Sampling\n",
    "In order to avoid any assumptions that can be made about the data, we randomly split the data into\n",
    "training and test sets. \n",
    "The test data is then saved in a different csv files.\n"
   ]
  },
  {
   "cell_type": "code",
   "execution_count": 2,
   "metadata": {
    "pycharm": {
     "is_executing": false,
     "metadata": false,
     "name": "#%%\n"
    }
   },
   "outputs": [
    {
     "data": {
      "text/html": [
       "<div>\n",
       "<style scoped>\n",
       "    .dataframe tbody tr th:only-of-type {\n",
       "        vertical-align: middle;\n",
       "    }\n",
       "\n",
       "    .dataframe tbody tr th {\n",
       "        vertical-align: top;\n",
       "    }\n",
       "\n",
       "    .dataframe thead th {\n",
       "        text-align: right;\n",
       "    }\n",
       "</style>\n",
       "<table border=\"1\" class=\"dataframe\">\n",
       "  <thead>\n",
       "    <tr style=\"text-align: right;\">\n",
       "      <th></th>\n",
       "      <th>Unnamed: 0</th>\n",
       "      <th>Auftragskonto</th>\n",
       "      <th>Buchungstag</th>\n",
       "      <th>Valutadatum</th>\n",
       "      <th>Buchungstext</th>\n",
       "      <th>Verwendungszweck</th>\n",
       "      <th>Beguenstigter/Zahlungspflichtiger</th>\n",
       "      <th>Kontonummer</th>\n",
       "      <th>BLZ</th>\n",
       "      <th>Betrag</th>\n",
       "      <th>Waehrung</th>\n",
       "      <th>label</th>\n",
       "    </tr>\n",
       "  </thead>\n",
       "  <tbody>\n",
       "    <tr>\n",
       "      <th>0</th>\n",
       "      <td>0</td>\n",
       "      <td>89990201.0</td>\n",
       "      <td>28.07.2016</td>\n",
       "      <td>28.07.2016</td>\n",
       "      <td>Lohn / Gehalt</td>\n",
       "      <td>Gehalt Adorsys GmbH &amp; Co. KG End-To-End-Ref.: ...</td>\n",
       "      <td>Adorsys GmbH &amp; Co. KG</td>\n",
       "      <td>7807800780</td>\n",
       "      <td>25190001</td>\n",
       "      <td>2000.00</td>\n",
       "      <td>EUR</td>\n",
       "      <td>income</td>\n",
       "    </tr>\n",
       "    <tr>\n",
       "      <th>1</th>\n",
       "      <td>1</td>\n",
       "      <td>89990201.0</td>\n",
       "      <td>27.07.2016</td>\n",
       "      <td>27.07.2016</td>\n",
       "      <td>Miete</td>\n",
       "      <td>Byladem1Sbt De12773501123456789889 Miete Beuth...</td>\n",
       "      <td>Georg Tasche</td>\n",
       "      <td>DE31251900019123456780</td>\n",
       "      <td>VOHADE2HXXX</td>\n",
       "      <td>-670.00</td>\n",
       "      <td>EUR</td>\n",
       "      <td>living</td>\n",
       "    </tr>\n",
       "    <tr>\n",
       "      <th>2</th>\n",
       "      <td>2</td>\n",
       "      <td>89990201.0</td>\n",
       "      <td>21.07.2016</td>\n",
       "      <td>21.07.2016</td>\n",
       "      <td>Bargeld</td>\n",
       "      <td>21.07/16.34Uhr Nuernberg All Eur 70,00 Geb.Eur...</td>\n",
       "      <td>Bargeld</td>\n",
       "      <td>9999900780</td>\n",
       "      <td>25190001</td>\n",
       "      <td>-70.00</td>\n",
       "      <td>EUR</td>\n",
       "      <td>private</td>\n",
       "    </tr>\n",
       "    <tr>\n",
       "      <th>3</th>\n",
       "      <td>3</td>\n",
       "      <td>89990201.0</td>\n",
       "      <td>20.07.2016</td>\n",
       "      <td>20.07.2016</td>\n",
       "      <td>Lebensmittel / Getraenke</td>\n",
       "      <td>2831 Edeka Neubauer Nuernb.//Nuernb 2016-07-20...</td>\n",
       "      <td>Kartenzahlung</td>\n",
       "      <td>9736000780</td>\n",
       "      <td>25190001</td>\n",
       "      <td>-73.21</td>\n",
       "      <td>EUR</td>\n",
       "      <td>standardOfLiving</td>\n",
       "    </tr>\n",
       "    <tr>\n",
       "      <th>4</th>\n",
       "      <td>4</td>\n",
       "      <td>89990201.0</td>\n",
       "      <td>18.07.2016</td>\n",
       "      <td>18.07.2016</td>\n",
       "      <td>Spontanausgabe</td>\n",
       "      <td>Amazon</td>\n",
       "      <td>neue Playstation</td>\n",
       "      <td>9988776655</td>\n",
       "      <td>25125100</td>\n",
       "      <td>-363</td>\n",
       "      <td>EUR</td>\n",
       "      <td>leisure</td>\n",
       "    </tr>\n",
       "  </tbody>\n",
       "</table>\n",
       "</div>"
      ],
      "text/plain": [
       "   Unnamed: 0  Auftragskonto Buchungstag Valutadatum  \\\n",
       "0           0     89990201.0  28.07.2016  28.07.2016   \n",
       "1           1     89990201.0  27.07.2016  27.07.2016   \n",
       "2           2     89990201.0  21.07.2016  21.07.2016   \n",
       "3           3     89990201.0  20.07.2016  20.07.2016   \n",
       "4           4     89990201.0  18.07.2016  18.07.2016   \n",
       "\n",
       "               Buchungstext  \\\n",
       "0             Lohn / Gehalt   \n",
       "1                     Miete   \n",
       "2                   Bargeld   \n",
       "3  Lebensmittel / Getraenke   \n",
       "4            Spontanausgabe   \n",
       "\n",
       "                                    Verwendungszweck  \\\n",
       "0  Gehalt Adorsys GmbH & Co. KG End-To-End-Ref.: ...   \n",
       "1  Byladem1Sbt De12773501123456789889 Miete Beuth...   \n",
       "2  21.07/16.34Uhr Nuernberg All Eur 70,00 Geb.Eur...   \n",
       "3  2831 Edeka Neubauer Nuernb.//Nuernb 2016-07-20...   \n",
       "4                                             Amazon   \n",
       "\n",
       "  Beguenstigter/Zahlungspflichtiger             Kontonummer          BLZ  \\\n",
       "0             Adorsys GmbH & Co. KG              7807800780     25190001   \n",
       "1                      Georg Tasche  DE31251900019123456780  VOHADE2HXXX   \n",
       "2                           Bargeld              9999900780     25190001   \n",
       "3                     Kartenzahlung              9736000780     25190001   \n",
       "4                  neue Playstation              9988776655     25125100   \n",
       "\n",
       "    Betrag Waehrung             label  \n",
       "0  2000.00      EUR            income  \n",
       "1  -670.00      EUR            living  \n",
       "2   -70.00      EUR           private  \n",
       "3   -73.21      EUR  standardOfLiving  \n",
       "4     -363      EUR           leisure  "
      ]
     },
     "execution_count": 2,
     "metadata": {},
     "output_type": "execute_result"
    }
   ],
   "source": [
    "dataSet.head()\n",
    "# print(dataSet.shape)\n",
    "# dataSet.info()"
   ]
  },
  {
   "cell_type": "markdown",
   "metadata": {
    "pycharm": {
     "metadata": false
    }
   },
   "source": [
    "### Data Exploration\n",
    "* To obtain a better understanding of our data, we need to do some exploration.\n",
    "* One might argue that some the tasks performed here belong to feature engineering or to another machine learning phase, \n",
    "    and the argument will be legitimate. It is merely done here to explore the date unencumbered."
   ]
  },
  {
   "cell_type": "markdown",
   "metadata": {
    "pycharm": {
     "metadata": false
    }
   },
   "source": [
    "1. Removing the columns with little or no value\n",
    "The following columns might not be very useful for our model training:"
   ]
  },
  {
   "cell_type": "markdown",
   "metadata": {
    "pycharm": {
     "metadata": false
    }
   },
   "source": [
    "- **Auftragskonto**: Is the account number of the person or entity that performs the transaction. You can\n",
    "see that there are just a few account numbers."
   ]
  },
  {
   "cell_type": "code",
   "execution_count": 3,
   "metadata": {
    "pycharm": {
     "is_executing": false,
     "metadata": false,
     "name": "#%%\n"
    }
   },
   "outputs": [
    {
     "name": "stdout",
     "output_type": "stream",
     "text": [
      "There are 3 unique account numbers.\n",
      "There are 41 missing values.\n"
     ]
    }
   ],
   "source": [
    "uniqueAccountNumbers = len(dataSet[\"Auftragskonto\"].unique())\n",
    "missingAccountNumbers = dataSet[\"Auftragskonto\"].isnull().sum()\n",
    "print(\"There are \" + str(uniqueAccountNumbers) + \" unique account numbers.\")\n",
    "print(\"There are \" + str(missingAccountNumbers) + \" missing values.\")"
   ]
  },
  {
   "cell_type": "markdown",
   "metadata": {
    "pycharm": {
     "metadata": false
    }
   },
   "source": [
    "- **Unnamed:0**: Is just a row identifier"
   ]
  },
  {
   "cell_type": "markdown",
   "metadata": {
    "pycharm": {
     "metadata": false
    }
   },
   "source": [
    "- **Valutadatum**: Valutadatum and Buchungstag have the same values except for one. However, Buchungstag is discarded\n",
    " since (in my opinion, semantically) would correspond to the actual date of the transaction."
   ]
  },
  {
   "cell_type": "code",
   "execution_count": 4,
   "metadata": {
    "pycharm": {
     "is_executing": false,
     "metadata": false,
     "name": "#%%\n"
    }
   },
   "outputs": [
    {
     "name": "stdout",
     "output_type": "stream",
     "text": [
      "How many rows have different dates ? 1\n"
     ]
    }
   ],
   "source": [
    "sameDateOnBothColumns = dataSet[dataSet[\"Valutadatum\"] != dataSet[\"Buchungstag\"]]\n",
    "print(\"How many rows have different dates ? \" + str(len(sameDateOnBothColumns)))"
   ]
  },
  {
   "cell_type": "markdown",
   "metadata": {
    "pycharm": {
     "metadata": false,
     "name": "#%% md\n"
    }
   },
   "source": [
    "- **Kontonummer and BLZ**: Both values generally tie to a bank a specific account in a bank branch. The same bank \n",
    "in different cities might have different BLZ. My assumption is that these values may over fit the\n",
    "model on the training set."
   ]
  },
  {
   "cell_type": "markdown",
   "metadata": {
    "pycharm": {
     "metadata": false,
     "name": "#%% md\n"
    }
   },
   "source": [
    "- **Waehrung**: This is the currency and given our data, it might not be very helpful during predictions."
   ]
  },
  {
   "cell_type": "code",
   "execution_count": 5,
   "metadata": {
    "pycharm": {
     "is_executing": false,
     "metadata": false,
     "name": "#%%\n"
    }
   },
   "outputs": [
    {
     "name": "stdout",
     "output_type": "stream",
     "text": [
      "There is only 1 currency.\n"
     ]
    }
   ],
   "source": [
    "uniqueCurrencies = len(dataSet[\"Waehrung\"].unique())\n",
    "print(\"There is only \" + str(uniqueCurrencies) + \" currency.\")"
   ]
  },
  {
   "cell_type": "code",
   "execution_count": 6,
   "metadata": {
    "pycharm": {
     "is_executing": false,
     "metadata": false,
     "name": "#%%\n"
    }
   },
   "outputs": [
    {
     "data": {
      "text/html": [
       "<div>\n",
       "<style scoped>\n",
       "    .dataframe tbody tr th:only-of-type {\n",
       "        vertical-align: middle;\n",
       "    }\n",
       "\n",
       "    .dataframe tbody tr th {\n",
       "        vertical-align: top;\n",
       "    }\n",
       "\n",
       "    .dataframe thead th {\n",
       "        text-align: right;\n",
       "    }\n",
       "</style>\n",
       "<table border=\"1\" class=\"dataframe\">\n",
       "  <thead>\n",
       "    <tr style=\"text-align: right;\">\n",
       "      <th></th>\n",
       "      <th>Buchungstag</th>\n",
       "      <th>Buchungstext</th>\n",
       "      <th>Verwendungszweck</th>\n",
       "      <th>Beguenstigter/Zahlungspflichtiger</th>\n",
       "      <th>Betrag</th>\n",
       "      <th>label</th>\n",
       "    </tr>\n",
       "  </thead>\n",
       "  <tbody>\n",
       "    <tr>\n",
       "      <th>0</th>\n",
       "      <td>28.07.2016</td>\n",
       "      <td>Lohn / Gehalt</td>\n",
       "      <td>Gehalt Adorsys GmbH &amp; Co. KG End-To-End-Ref.: ...</td>\n",
       "      <td>Adorsys GmbH &amp; Co. KG</td>\n",
       "      <td>2000.00</td>\n",
       "      <td>income</td>\n",
       "    </tr>\n",
       "    <tr>\n",
       "      <th>1</th>\n",
       "      <td>27.07.2016</td>\n",
       "      <td>Miete</td>\n",
       "      <td>Byladem1Sbt De12773501123456789889 Miete Beuth...</td>\n",
       "      <td>Georg Tasche</td>\n",
       "      <td>-670.00</td>\n",
       "      <td>living</td>\n",
       "    </tr>\n",
       "    <tr>\n",
       "      <th>2</th>\n",
       "      <td>21.07.2016</td>\n",
       "      <td>Bargeld</td>\n",
       "      <td>21.07/16.34Uhr Nuernberg All Eur 70,00 Geb.Eur...</td>\n",
       "      <td>Bargeld</td>\n",
       "      <td>-70.00</td>\n",
       "      <td>private</td>\n",
       "    </tr>\n",
       "    <tr>\n",
       "      <th>3</th>\n",
       "      <td>20.07.2016</td>\n",
       "      <td>Lebensmittel / Getraenke</td>\n",
       "      <td>2831 Edeka Neubauer Nuernb.//Nuernb 2016-07-20...</td>\n",
       "      <td>Kartenzahlung</td>\n",
       "      <td>-73.21</td>\n",
       "      <td>standardOfLiving</td>\n",
       "    </tr>\n",
       "    <tr>\n",
       "      <th>4</th>\n",
       "      <td>18.07.2016</td>\n",
       "      <td>Spontanausgabe</td>\n",
       "      <td>Amazon</td>\n",
       "      <td>neue Playstation</td>\n",
       "      <td>-363</td>\n",
       "      <td>leisure</td>\n",
       "    </tr>\n",
       "  </tbody>\n",
       "</table>\n",
       "</div>"
      ],
      "text/plain": [
       "  Buchungstag              Buchungstext  \\\n",
       "0  28.07.2016             Lohn / Gehalt   \n",
       "1  27.07.2016                     Miete   \n",
       "2  21.07.2016                   Bargeld   \n",
       "3  20.07.2016  Lebensmittel / Getraenke   \n",
       "4  18.07.2016            Spontanausgabe   \n",
       "\n",
       "                                    Verwendungszweck  \\\n",
       "0  Gehalt Adorsys GmbH & Co. KG End-To-End-Ref.: ...   \n",
       "1  Byladem1Sbt De12773501123456789889 Miete Beuth...   \n",
       "2  21.07/16.34Uhr Nuernberg All Eur 70,00 Geb.Eur...   \n",
       "3  2831 Edeka Neubauer Nuernb.//Nuernb 2016-07-20...   \n",
       "4                                             Amazon   \n",
       "\n",
       "  Beguenstigter/Zahlungspflichtiger   Betrag             label  \n",
       "0             Adorsys GmbH & Co. KG  2000.00            income  \n",
       "1                      Georg Tasche  -670.00            living  \n",
       "2                           Bargeld   -70.00           private  \n",
       "3                     Kartenzahlung   -73.21  standardOfLiving  \n",
       "4                  neue Playstation     -363           leisure  "
      ]
     },
     "execution_count": 6,
     "metadata": {},
     "output_type": "execute_result"
    }
   ],
   "source": [
    "dataSetWithMeaningfulColumns = dataSet.drop(columns=[\"Auftragskonto\", \"Unnamed: 0\", \"Valutadatum\",\n",
    "                                                     \"Kontonummer\", \"BLZ\", \"Waehrung\"])\n",
    "dataSetWithMeaningfulColumns.head()"
   ]
  },
  {
   "cell_type": "markdown",
   "metadata": {
    "pycharm": {
     "metadata": false,
     "name": "#%% md\n"
    }
   },
   "source": [
    "2. Searching for outliers\n",
    "Now, let us search for outliers in the **Betrag** column. We start by plotting a box plot for this attribute.\n",
    "(Some cleaning has to be done on the amount as some numbers have commas while others have a dot for floating points.)"
   ]
  },
  {
   "cell_type": "code",
   "execution_count": 7,
   "metadata": {
    "pycharm": {
     "is_executing": false,
     "metadata": false,
     "name": "#%%\n"
    }
   },
   "outputs": [],
   "source": [
    "import seaborn as sns\n",
    "sns.set(style=\"whitegrid\")\n",
    "dataSetWithMeaningfulColumns[\"Betrag\"] = dataSetWithMeaningfulColumns[\"Betrag\"].apply(lambda amount: amount.replace(',','.'))\n",
    "dataSetWithMeaningfulColumns[\"Betrag\"] = dataSetWithMeaningfulColumns[\"Betrag\"].astype(\"float\")\n",
    "dataSetWithMeaningfulColumns[\"label\"] = dataSetWithMeaningfulColumns[\"label\"].astype(\"category\")\n",
    "amountVsLabelPlot = sns.scatterplot(x=\"label\", y=\"Betrag\", data=dataSetWithMeaningfulColumns.sort_values(\"Betrag\"))\n",
    "\n",
    "def rotate_labels(plot):\n",
    "    for item in plot.get_xticklabels():\n",
    "        item.set_rotation(35)\n",
    "rotate_labels(amountVsLabelPlot)"
   ]
  },
  {
   "cell_type": "markdown",
   "metadata": {
    "pycharm": {
     "metadata": false
    }
   },
   "source": [
    "On the first sight, it looks like the points at -5000€ and -4000€ could be outliers. \n",
    "However, -4000€ falls in the finance category. After investigation, we notice that it is indeed a money investment. \n",
    "We are therefore left with the former case (-5000€). Before drawing any conclusions we draw another plot based on \n",
    "the days of the month."
   ]
  },
  {
   "cell_type": "code",
   "execution_count": 8,
   "metadata": {
    "pycharm": {
     "is_executing": false,
     "metadata": false,
     "name": "#%%\n"
    }
   },
   "outputs": [
    {
     "name": "stdout",
     "output_type": "stream",
     "text": [
      "There are 0 missing dates.\n"
     ]
    }
   ],
   "source": [
    "missingAccountNumbers = dataSet[\"Buchungstag\"].isnull().sum()\n",
    "print(\"There are \" + str(missingAccountNumbers) + \" missing dates.\")"
   ]
  },
  {
   "cell_type": "markdown",
   "metadata": {
    "pycharm": {
     "metadata": false,
     "name": "#%% md\n"
    }
   },
   "source": [
    "I speculate that the full date will not be useful for categorization. The day of the month however can have some interesting\n",
    "properties. For example, regular worker salaries usually come up around the end of the month (or at the beginning of the new month). For\n",
    "this reason, a new attribute **dayOfMonth** is created and meanwhile **Buchungstag** will be discarded. \n",
    "There are no missing values, so one can safely extract the day."
   ]
  },
  {
   "cell_type": "code",
   "execution_count": 9,
   "metadata": {
    "pycharm": {
     "is_executing": false,
     "metadata": false,
     "name": "#%%\n"
    }
   },
   "outputs": [
    {
     "data": {
      "image/png": "[encoded data removed]",
      "text/plain": [
       "<Figure size 432x288 with 1 Axes>"
      ]
     },
     "metadata": {
      "needs_background": "light"
     },
     "output_type": "display_data"
    }
   ],
   "source": [
    "dataSetWithMeaningfulColumns[\"dayOfMonth\"] = dataSetWithMeaningfulColumns[\"Buchungstag\"].apply(lambda date: date[0:2])\n",
    "dataSetWithMeaningfulColumns[\"dayOfMonth\"] = dataSetWithMeaningfulColumns[\"dayOfMonth\"].astype(\"int\")\n",
    "dayVsAmountPlot = sns.scatterplot(x=\"dayOfMonth\", y=\"Betrag\", data=dataSetWithMeaningfulColumns.sort_values(\"dayOfMonth\"))\n",
    "rotate_labels(dayVsAmountPlot)"
   ]
  },
  {
   "cell_type": "markdown",
   "metadata": {
    "pycharm": {
     "metadata": false
    }
   },
   "source": [
    "As expected, a lot more happens towards the end of the months. The transaction with -5000€ still stands out."
   ]
  },
  {
   "cell_type": "code",
   "execution_count": 10,
   "metadata": {
    "pycharm": {
     "is_executing": false,
     "metadata": false,
     "name": "#%%\n"
    }
   },
   "outputs": [
    {
     "data": {
      "image/png": "[encoded data removed]",
      "text/plain": [
       "<Figure size 432x288 with 1 Axes>"
      ]
     },
     "metadata": {
      "needs_background": "light"
     },
     "output_type": "display_data"
    }
   ],
   "source": [
    "from mpl_toolkits.mplot3d import Axes3D\n",
    "import matplotlib.pyplot as plt\n",
    "\n",
    "fig = plt.figure()\n",
    "ax = fig.add_subplot(111, projection='3d')\n",
    "ax.scatter(dataSetWithMeaningfulColumns[\"Betrag\"], dataSetWithMeaningfulColumns[\"dayOfMonth\"], dataSetWithMeaningfulColumns[\"label\"].cat.codes, c='skyblue', s=80)\n",
    "ax.view_init(20, 120)\n",
    "plt.show()"
   ]
  },
  {
   "cell_type": "markdown",
   "metadata": {
    "pycharm": {
     "metadata": false
    }
   },
   "source": [
    "After plotting the day against the amount and label (irrespective of their encoding 0-5) I assume that\n",
    "the transaction with -5000€ is an outlier. It does not quite fit to the other points belonging to the category \n",
    "standardOfLiving. For this reason, this row will be removed before training."
   ]
  },
  {
   "cell_type": "code",
   "execution_count": 11,
   "metadata": {
    "pycharm": {
     "is_executing": false,
     "metadata": false,
     "name": "#%%\n"
    }
   },
   "outputs": [
    {
     "name": "stdout",
     "output_type": "stream",
     "text": [
      "Shape before removing outliers(209, 7)\n",
      "Shape after removing outliers(208, 7)\n"
     ]
    }
   ],
   "source": [
    "print(\"Shape before removing outliers\" + str(dataSetWithMeaningfulColumns.shape))\n",
    "dataSetWithoutOutlier = dataSetWithMeaningfulColumns[dataSetWithMeaningfulColumns[\"Betrag\"] > -5000]\n",
    "print(\"Shape after removing outliers\" + str(dataSetWithoutOutlier.shape))"
   ]
  },
  {
   "cell_type": "markdown",
   "metadata": {
    "pycharm": {
     "metadata": false
    }
   },
   "source": [
    "3. We now look at the distribution of **Betrag**. Having a normal distribution could be important\n",
    "if we decide to chose a classifier which assumes normality (Gaussian Naive Bayes in our case). \n"
   ]
  },
  {
   "cell_type": "code",
   "execution_count": 12,
   "metadata": {
    "pycharm": {
     "is_executing": false,
     "metadata": false,
     "name": "#%%\n"
    }
   },
   "outputs": [
    {
     "data": {
      "image/png": "[encoded data removed]",
      "text/plain": [
       "<Figure size 432x288 with 1 Axes>"
      ]
     },
     "metadata": {
      "needs_background": "light"
     },
     "output_type": "display_data"
    }
   ],
   "source": [
    "ax = sns.distplot(dataSetWithoutOutlier[\"Betrag\"])"
   ]
  },
  {
   "cell_type": "markdown",
   "metadata": {
    "pycharm": {
     "metadata": false
    }
   },
   "source": [
    "The histogram tells us that cash outflows are more frequent than inflows. We can also look at the mean and median."
   ]
  },
  {
   "cell_type": "code",
   "execution_count": 13,
   "metadata": {
    "pycharm": {
     "is_executing": false,
     "metadata": false,
     "name": "#%%\n"
    }
   },
   "outputs": [
    {
     "name": "stdout",
     "output_type": "stream",
     "text": [
      "The mean of Betrag is: 28.008846153846154\n",
      "The median of Betrag is -28.85\n"
     ]
    }
   ],
   "source": [
    "print(\"The mean of Betrag is: \" + str(dataSetWithoutOutlier[\"Betrag\"].mean(skipna=True)))\n",
    "print(\"The median of Betrag is \" + str(dataSetWithoutOutlier[\"Betrag\"].median(skipna=True)))\n"
   ]
  },
  {
   "cell_type": "markdown",
   "metadata": {
    "pycharm": {
     "metadata": false,
     "name": "#%% md\n"
    }
   },
   "source": [
    "4. At last we look at the distribution of the labels in our dataset\n"
   ]
  },
  {
   "cell_type": "code",
   "execution_count": 14,
   "metadata": {
    "pycharm": {
     "is_executing": false,
     "metadata": false,
     "name": "#%%\n"
    }
   },
   "outputs": [
    {
     "data": {
      "image/png": "[encoded data removed]",
      "text/plain": [
       "<Figure size 432x288 with 1 Axes>"
      ]
     },
     "metadata": {
      "needs_background": "light"
     },
     "output_type": "display_data"
    }
   ],
   "source": [
    "from collections import Counter\n",
    "import numpy as np\n",
    "def plot_frequencies(data):\n",
    "    counter = Counter(data)\n",
    "    tokens = counter.keys()\n",
    "    token_counts = counter.values()\n",
    "    indexes = np.arange(len(tokens))\n",
    "    plt.bar(indexes, token_counts)\n",
    "    plt.xticks(indexes, tokens, rotation=\"vertical\")\n",
    "    plt.show()\n",
    "plot_frequencies(dataSetWithoutOutlier[\"label\"])\n"
   ]
  },
  {
   "cell_type": "markdown",
   "metadata": {
    "pycharm": {
     "metadata": false,
     "name": "#%% md\n"
    }
   },
   "source": [
    "This plot shows that our labels are imbalanced; something to considered when sampling the data."
   ]
  },
  {
   "cell_type": "markdown",
   "metadata": {
    "pycharm": {
     "metadata": false
    }
   },
   "source": [
    "### Data Cleaning\n",
    "* Two main attributes will be involved (**Verwendungszweck** and **Buchungstext**)\n",
    "* All non alphabetical characters are deleted from the **Buchungstext** so that we keep (more or less) full words or tokens\n",
    "* As for the Verwendungszweck, more work has to be done.\n",
    "    * Then replace all non alphabetical characters with spaces. For example \"A/9B\" will then be \"A  B\"\n",
    "    * At last, stopwords (assuming german language) are removed and german characters are normalized (i.e ä to ae etc.). "
   ]
  },
  {
   "cell_type": "code",
   "execution_count": 15,
   "metadata": {
    "pycharm": {
     "is_executing": false,
     "metadata": false,
     "name": "#%%\n"
    }
   },
   "outputs": [
    {
     "name": "stderr",
     "output_type": "stream",
     "text": [
      "/Users/pascalzoleko/PycharmProjects/saki2019/venv/lib/python3.6/site-packages/pandas/core/generic.py:5096: SettingWithCopyWarning: \n",
      "A value is trying to be set on a copy of a slice from a DataFrame.\n",
      "Try using .loc[row_indexer,col_indexer] = value instead\n",
      "\n",
      "See the caveats in the documentation: http://pandas.pydata.org/pandas-docs/stable/indexing.html#indexing-view-versus-copy\n",
      "  self[name] = value\n"
     ]
    },
    {
     "data": {
      "text/html": [
       "<div>\n",
       "<style scoped>\n",
       "    .dataframe tbody tr th:only-of-type {\n",
       "        vertical-align: middle;\n",
       "    }\n",
       "\n",
       "    .dataframe tbody tr th {\n",
       "        vertical-align: top;\n",
       "    }\n",
       "\n",
       "    .dataframe thead th {\n",
       "        text-align: right;\n",
       "    }\n",
       "</style>\n",
       "<table border=\"1\" class=\"dataframe\">\n",
       "  <thead>\n",
       "    <tr style=\"text-align: right;\">\n",
       "      <th></th>\n",
       "      <th>Buchungstag</th>\n",
       "      <th>Buchungstext</th>\n",
       "      <th>Verwendungszweck</th>\n",
       "      <th>Beguenstigter/Zahlungspflichtiger</th>\n",
       "      <th>Betrag</th>\n",
       "      <th>label</th>\n",
       "      <th>dayOfMonth</th>\n",
       "    </tr>\n",
       "  </thead>\n",
       "  <tbody>\n",
       "    <tr>\n",
       "      <th>0</th>\n",
       "      <td>28.07.2016</td>\n",
       "      <td>lohn gehalt</td>\n",
       "      <td>gehalt adorsys gmbh co kg end to end ref notpr...</td>\n",
       "      <td>Adorsys GmbH &amp; Co. KG</td>\n",
       "      <td>2000.00</td>\n",
       "      <td>income</td>\n",
       "      <td>28</td>\n",
       "    </tr>\n",
       "    <tr>\n",
       "      <th>1</th>\n",
       "      <td>27.07.2016</td>\n",
       "      <td>miete</td>\n",
       "      <td>byladem sbt de miete beuthener str end to end ...</td>\n",
       "      <td>Georg Tasche</td>\n",
       "      <td>-670.00</td>\n",
       "      <td>living</td>\n",
       "      <td>27</td>\n",
       "    </tr>\n",
       "    <tr>\n",
       "      <th>2</th>\n",
       "      <td>21.07.2016</td>\n",
       "      <td>bargeld</td>\n",
       "      <td>uhr nuernberg all eur geb eur einzahlung ausza...</td>\n",
       "      <td>Bargeld</td>\n",
       "      <td>-70.00</td>\n",
       "      <td>private</td>\n",
       "      <td>21</td>\n",
       "    </tr>\n",
       "    <tr>\n",
       "      <th>3</th>\n",
       "      <td>20.07.2016</td>\n",
       "      <td>lebensmittel getraenke</td>\n",
       "      <td>edeka neubauer nuernb nuernb t kfn vj lastschrift</td>\n",
       "      <td>Kartenzahlung</td>\n",
       "      <td>-73.21</td>\n",
       "      <td>standardOfLiving</td>\n",
       "      <td>20</td>\n",
       "    </tr>\n",
       "    <tr>\n",
       "      <th>4</th>\n",
       "      <td>18.07.2016</td>\n",
       "      <td>spontanausgabe</td>\n",
       "      <td>amazon</td>\n",
       "      <td>neue Playstation</td>\n",
       "      <td>-363.00</td>\n",
       "      <td>leisure</td>\n",
       "      <td>18</td>\n",
       "    </tr>\n",
       "  </tbody>\n",
       "</table>\n",
       "</div>"
      ],
      "text/plain": [
       "  Buchungstag            Buchungstext  \\\n",
       "0  28.07.2016             lohn gehalt   \n",
       "1  27.07.2016                   miete   \n",
       "2  21.07.2016                 bargeld   \n",
       "3  20.07.2016  lebensmittel getraenke   \n",
       "4  18.07.2016          spontanausgabe   \n",
       "\n",
       "                                    Verwendungszweck  \\\n",
       "0  gehalt adorsys gmbh co kg end to end ref notpr...   \n",
       "1  byladem sbt de miete beuthener str end to end ...   \n",
       "2  uhr nuernberg all eur geb eur einzahlung ausza...   \n",
       "3  edeka neubauer nuernb nuernb t kfn vj lastschrift   \n",
       "4                                             amazon   \n",
       "\n",
       "  Beguenstigter/Zahlungspflichtiger   Betrag             label  dayOfMonth  \n",
       "0             Adorsys GmbH & Co. KG  2000.00            income          28  \n",
       "1                      Georg Tasche  -670.00            living          27  \n",
       "2                           Bargeld   -70.00           private          21  \n",
       "3                     Kartenzahlung   -73.21  standardOfLiving          20  \n",
       "4                  neue Playstation  -363.00           leisure          18  "
      ]
     },
     "execution_count": 15,
     "metadata": {},
     "output_type": "execute_result"
    }
   ],
   "source": [
    "def replace_non_alpha_with_space(text: str):\n",
    "    return \"\".join([c if c.isalpha() else \" \" for c in text])\n",
    "\n",
    "def normalize_german_characters(text: str):\n",
    "    text = text.replace('ä', 'ae')\n",
    "    text = text.replace('ö', 'oe')\n",
    "    text = text.replace('ü', 'ue')\n",
    "    text = text.replace('Ä', 'Ae')\n",
    "    text = text.replace('Ö', 'Oe')\n",
    "    text = text.replace('Ü', 'Ue')\n",
    "    text = text.replace('ß', 'ss')\n",
    "    return text\n",
    "\n",
    "def remove_words_from_text(text: str, words: list):\n",
    "    return \" \".join([token for token in text.lower().split() if token not in words])\n",
    "\n",
    "def remove_one_and_two_char_tokens(text: str):\n",
    "    return \" \".join([token for token in text.split() if len(token) > 2])\n",
    "\n",
    "from nltk.corpus import stopwords\n",
    "germanStopWords = stopwords.words('german')\n",
    "dataSetWithoutOutlier.Buchungstext = dataSetWithoutOutlier.Buchungstext.apply(lambda text: replace_non_alpha_with_space(text))\n",
    "dataSetWithoutOutlier.Buchungstext = dataSetWithoutOutlier.Buchungstext.apply(lambda text: remove_words_from_text(text, germanStopWords))\n",
    "dataSetWithoutOutlier.Buchungstext = dataSetWithoutOutlier.Buchungstext.apply(lambda text: normalize_german_characters(text))\n",
    "dataSetWithoutOutlier.Verwendungszweck = dataSetWithoutOutlier.Verwendungszweck.apply(lambda text: replace_non_alpha_with_space(text))\n",
    "dataSetWithoutOutlier.Verwendungszweck = dataSetWithoutOutlier.Verwendungszweck.apply(lambda text: normalize_german_characters(text))\n",
    "dataSetWithoutOutlier.Verwendungszweck = dataSetWithoutOutlier.Verwendungszweck.apply(lambda text: remove_words_from_text(text, germanStopWords))\n",
    "dataSetWithoutOutlier.head()"
   ]
  },
  {
   "cell_type": "markdown",
   "metadata": {
    "pycharm": {
     "metadata": false
    }
   },
   "source": [
    "We now look at how the words are distributed for each variable.\n",
    "* For **Buchungstext**"
   ]
  },
  {
   "cell_type": "code",
   "execution_count": 16,
   "metadata": {
    "pycharm": {
     "is_executing": false,
     "metadata": false,
     "name": "#%%\n"
    }
   },
   "outputs": [
    {
     "data": {
      "image/png": "[encoded data removed]",
      "text/plain": [
       "<Figure size 2400x800 with 1 Axes>"
      ]
     },
     "metadata": {},
     "output_type": "display_data"
    }
   ],
   "source": [
    "from matplotlib.pyplot import figure\n",
    "def plot_token_frequencies(data):\n",
    "    figure(num=None, figsize=(30, 10), dpi=80, facecolor='w', edgecolor='k')\n",
    "    plot_frequencies([token for i, text in enumerate(data) for token in text.split()])\n",
    "plot_token_frequencies(dataSetWithoutOutlier[\"Buchungstext\"])"
   ]
  },
  {
   "cell_type": "markdown",
   "metadata": {
    "pycharm": {
     "metadata": false
    }
   },
   "source": [
    "* For **Verwendungszweck**"
   ]
  },
  {
   "cell_type": "code",
   "execution_count": 17,
   "metadata": {
    "pycharm": {
     "is_executing": false,
     "metadata": false,
     "name": "#%%\n"
    }
   },
   "outputs": [
    {
     "data": {
      "image/png": "[encoded data removed]",
      "text/plain": [
       "<Figure size 2400x800 with 1 Axes>"
      ]
     },
     "metadata": {},
     "output_type": "display_data"
    }
   ],
   "source": [
    "plot_token_frequencies(dataSetWithoutOutlier[\"Verwendungszweck\"])"
   ]
  },
  {
   "cell_type": "markdown",
   "metadata": {
    "pycharm": {
     "metadata": false,
     "name": "#%% md\n"
    }
   },
   "source": [
    "After taking a look at the distribution, one might notice that many words with higher frequencies tend to be less\n",
    "relevant (in my opinion, based on transaction semantics) when compared to some words having lower frequencies. \n",
    "I will also assume that one and two character tokens won't be very useful for the model, since they hold no semantical\n",
    "meaning (in my opinion)."
   ]
  },
  {
   "cell_type": "code",
   "execution_count": 18,
   "metadata": {
    "pycharm": {
     "is_executing": false,
     "metadata": false,
     "name": "#%% \n"
    }
   },
   "outputs": [],
   "source": [
    "dataSetWithoutOutlier.Verwendungszweck = dataSetWithoutOutlier.Verwendungszweck.apply(lambda text: remove_one_and_two_char_tokens(text))"
   ]
  },
  {
   "cell_type": "markdown",
   "metadata": {
    "pycharm": {
     "metadata": false,
     "name": "#%% md\n"
    }
   },
   "source": [
    "Given that the space of words is small, i can afford to manually select words I deem relevant for the classifier. \n",
    "The selection is merely based on intuition and other factors (online search, IBAN/BICs, redundant \n",
    "tokens e.g \"bears friends\" etc.).\n",
    "The following words are most likely going to overfit the model and hence will be deleted from the Verwendungszweck."
   ]
  },
  {
   "cell_type": "code",
   "execution_count": 19,
   "metadata": {
    "pycharm": {
     "is_executing": false,
     "metadata": false,
     "name": "#%%\n"
    }
   },
   "outputs": [
    {
     "data": {
      "image/png": "[encoded data removed]",
      "text/plain": [
       "<Figure size 2400x800 with 1 Axes>"
      ]
     },
     "metadata": {},
     "output_type": "display_data"
    }
   ],
   "source": [
    "unwantedWords = \"All Eur Geb Blz Nuernb Fil Folgenr Verf Alld ccbade xxx ccb spdude verfa lld pulsnitz elv maxx verfal \" \\\n",
    "                \"friends gmbAramark gmbh verfalld California Rfalld Doris Horst Dietrich Winkl Deutschland \" \\\n",
    "                \"rse Roethenbach Nuremberg Karolinen End adorsys Notprovided Nsct Byladem sbt ssknde Beuthener str Uhr \" \\\n",
    "                \"Nuerenberg Nuernber erg gries company ultra Schnieglin bil Fuerth ganz bequ www seon Lombagine Sebalder\" \\\n",
    "                \"Auslandsrei Sekr Icherung vero nbg koestr euro ref gmb\"\n",
    "unwantedWords = unwantedWords.split()\n",
    "unwantedWords = [word.lower() for word in unwantedWords]\n",
    "dataSetWithoutOutlier.Verwendungszweck = dataSetWithoutOutlier.Verwendungszweck.apply(lambda text: remove_words_from_text(text, unwantedWords))\n",
    "plot_token_frequencies(dataSetWithoutOutlier[\"Verwendungszweck\"])"
   ]
  },
  {
   "cell_type": "markdown",
   "metadata": {
    "pycharm": {
     "metadata": false,
     "name": "#%% md\n"
    }
   },
   "source": [
    "### Feature Engineering\n",
    "* Now that the data is cleaner, we select, extract and transform the necessary features we will later feed into the model."
   ]
  },
  {
   "cell_type": "code",
   "execution_count": 20,
   "metadata": {
    "pycharm": {
     "is_executing": false,
     "metadata": false,
     "name": "#%%\n"
    }
   },
   "outputs": [
    {
     "data": {
      "image/png": "[encoded data removed]",
      "text/plain": [
       "<Figure size 432x288 with 1 Axes>"
      ]
     },
     "metadata": {
      "needs_background": "light"
     },
     "output_type": "display_data"
    }
   ],
   "source": [
    "dataWithSelectedFeatures = pd.DataFrame()\n",
    "dataWithSelectedFeatures[\"sinOfDayOfMonth\"] = np.sin(dataSetWithoutOutlier.dayOfMonth*(2.0 * np.pi / 31))\n",
    "dataWithSelectedFeatures[\"cosOfDayOfMonth\"] = np.cos(dataSetWithoutOutlier.dayOfMonth*(2.0 * np.pi / 31))\n",
    "dayOfMonthFeatures = sns.scatterplot(x=\"cosOfDayOfMonth\", y=\"sinOfDayOfMonth\", data=dataWithSelectedFeatures.sort_values(\"cosOfDayOfMonth\"))"
   ]
  },
  {
   "cell_type": "markdown",
   "metadata": {
    "pycharm": {
     "metadata": false,
     "name": "#%% md\n"
    }
   },
   "source": [
    "Now that the circular nature of dates has been captured in the two features **sinOfDayOfMonth** and **cosOfDayOfMonth**,\n",
    "We now move next to the amount (Betrag)."
   ]
  },
  {
   "cell_type": "code",
   "execution_count": 21,
   "metadata": {
    "pycharm": {
     "is_executing": false,
     "metadata": false,
     "name": "#%%\n"
    }
   },
   "outputs": [
    {
     "name": "stdout",
     "output_type": "stream",
     "text": [
      "count     208.000000\n",
      "mean       28.008846\n",
      "std       742.248428\n",
      "min     -4000.000000\n",
      "25%       -92.492500\n",
      "50%       -28.850000\n",
      "75%       -12.205000\n",
      "max      2986.240000\n",
      "Name: Betrag, dtype: float64\n"
     ]
    }
   ],
   "source": [
    "print(dataSetWithoutOutlier.Betrag.describe())"
   ]
  },
  {
   "cell_type": "markdown",
   "metadata": {
    "pycharm": {
     "metadata": false,
     "name": "#%% md\n"
    }
   },
   "source": [
    "Betrag has a high standard deviation and variance. When the distribution of the amount was plotted, we noticed heavy \n",
    "tails. To stabilize the variance, we apply a log transformation. But before doing that, two more features will be \n",
    "extracted from the amount.\n",
    "* A binary feature decimalInAmount that is 1 if the amount is not a whole number and 0 otherwise. \n",
    "For example, 1 for 23.56 and 0 for 23.00. This feature is extracted because (I speculate that) many transactions\n",
    "like rent are often whole numbers, compared to leisure transactions.\n",
    "* Since the log transformation only works for positive numbers, the sign of the amount must be extracted before.\n",
    "(where 0 is considered positive to keep things simple). The sign is encoded as a binary feature."
   ]
  },
  {
   "cell_type": "code",
   "execution_count": 22,
   "metadata": {
    "pycharm": {
     "is_executing": false,
     "metadata": false,
     "name": "#%%\n"
    }
   },
   "outputs": [
    {
     "data": {
      "text/html": [
       "<div>\n",
       "<style scoped>\n",
       "    .dataframe tbody tr th:only-of-type {\n",
       "        vertical-align: middle;\n",
       "    }\n",
       "\n",
       "    .dataframe tbody tr th {\n",
       "        vertical-align: top;\n",
       "    }\n",
       "\n",
       "    .dataframe thead th {\n",
       "        text-align: right;\n",
       "    }\n",
       "</style>\n",
       "<table border=\"1\" class=\"dataframe\">\n",
       "  <thead>\n",
       "    <tr style=\"text-align: right;\">\n",
       "      <th></th>\n",
       "      <th>sinOfDayOfMonth</th>\n",
       "      <th>cosOfDayOfMonth</th>\n",
       "      <th>decimalInAmount</th>\n",
       "      <th>amountSign</th>\n",
       "      <th>absoluteAmount</th>\n",
       "    </tr>\n",
       "  </thead>\n",
       "  <tbody>\n",
       "    <tr>\n",
       "      <th>0</th>\n",
       "      <td>-0.571268</td>\n",
       "      <td>0.820763</td>\n",
       "      <td>0</td>\n",
       "      <td>1</td>\n",
       "      <td>7.600902</td>\n",
       "    </tr>\n",
       "    <tr>\n",
       "      <th>1</th>\n",
       "      <td>-0.724793</td>\n",
       "      <td>0.688967</td>\n",
       "      <td>0</td>\n",
       "      <td>0</td>\n",
       "      <td>6.507278</td>\n",
       "    </tr>\n",
       "    <tr>\n",
       "      <th>2</th>\n",
       "      <td>-0.897805</td>\n",
       "      <td>-0.440394</td>\n",
       "      <td>0</td>\n",
       "      <td>0</td>\n",
       "      <td>4.248495</td>\n",
       "    </tr>\n",
       "    <tr>\n",
       "      <th>3</th>\n",
       "      <td>-0.790776</td>\n",
       "      <td>-0.612106</td>\n",
       "      <td>1</td>\n",
       "      <td>0</td>\n",
       "      <td>4.293332</td>\n",
       "    </tr>\n",
       "    <tr>\n",
       "      <th>4</th>\n",
       "      <td>-0.485302</td>\n",
       "      <td>-0.874347</td>\n",
       "      <td>0</td>\n",
       "      <td>0</td>\n",
       "      <td>5.894403</td>\n",
       "    </tr>\n",
       "  </tbody>\n",
       "</table>\n",
       "</div>"
      ],
      "text/plain": [
       "   sinOfDayOfMonth  cosOfDayOfMonth  decimalInAmount  amountSign  \\\n",
       "0        -0.571268         0.820763                0           1   \n",
       "1        -0.724793         0.688967                0           0   \n",
       "2        -0.897805        -0.440394                0           0   \n",
       "3        -0.790776        -0.612106                1           0   \n",
       "4        -0.485302        -0.874347                0           0   \n",
       "\n",
       "   absoluteAmount  \n",
       "0        7.600902  \n",
       "1        6.507278  \n",
       "2        4.248495  \n",
       "3        4.293332  \n",
       "4        5.894403  "
      ]
     },
     "execution_count": 22,
     "metadata": {},
     "output_type": "execute_result"
    },
    {
     "data": {
      "image/png": "[encoded data removed]",
      "text/plain": [
       "<Figure size 432x288 with 1 Axes>"
      ]
     },
     "metadata": {
      "needs_background": "light"
     },
     "output_type": "display_data"
    }
   ],
   "source": [
    "dataWithSelectedFeatures[\"decimalInAmount\"] = [1 if amount - float(int(amount)) != 0. else 0 for amount in dataSetWithoutOutlier.Betrag]\n",
    "dataWithSelectedFeatures[\"amountSign\"] = dataSetWithoutOutlier.Betrag.apply(lambda s: 1 if s >= 0 else 0)\n",
    "dataWithSelectedFeatures[\"absoluteAmount\"] = dataSetWithoutOutlier.Betrag.apply(lambda a: np.log(np.abs(a)))\n",
    "absoluteAmountDistribution = sns.distplot(dataWithSelectedFeatures[\"absoluteAmount\"])\n",
    "dataWithSelectedFeatures.head()"
   ]
  },
  {
   "cell_type": "markdown",
   "metadata": {
    "pycharm": {
     "metadata": false,
     "name": "#%% md\n"
    }
   },
   "source": [
    "This now looks a little better than what we had before (meaning the tails are gone and the distribution \n",
    "looks more normal)."
   ]
  },
  {
   "cell_type": "markdown",
   "metadata": {
    "pycharm": {
     "metadata": false,
     "name": "#%% md\n"
    }
   },
   "source": [
    "We now convert **Buchungstext** and **Verwendungszweck** into a matrix of tokens. And we assume that \n",
    "the text consists of **german** words."
   ]
  },
  {
   "cell_type": "code",
   "execution_count": 23,
   "metadata": {
    "pycharm": {
     "is_executing": false,
     "metadata": false,
     "name": "#%%\n"
    }
   },
   "outputs": [],
   "source": [
    "from sklearn.feature_extraction.text import CountVectorizer\n",
    "def get_feature_matrix_from_corpus(corpus: pd.DataFrame) -> pd.DataFrame:\n",
    "    vectorizer = CountVectorizer()\n",
    "    text_matrix = vectorizer.fit_transform(corpus)\n",
    "    text_features = vectorizer.get_feature_names()\n",
    "    return pd.DataFrame(data=text_matrix.toarray(), columns=text_features)\n",
    "\n",
    "vzAndBText = pd.DataFrame()\n",
    "vzAndBText[\"vzAndBt\"] = dataSetWithoutOutlier.Verwendungszweck + \" \" + dataSetWithoutOutlier.Buchungstext\n",
    "vzAndBTextDF = get_feature_matrix_from_corpus(vzAndBText.vzAndBt)"
   ]
  },
  {
   "cell_type": "markdown",
   "metadata": {
    "pycharm": {
     "metadata": false,
     "name": "#%% md\n"
    }
   },
   "source": [
    "Some features here may be redundant, for example (**Lebensmittel**, **Getraenke**), \n",
    "(**Lastschrift**, **Einzugsermächtigung**) and (**Euro**, **Überweisung**). That is an assumption made based\n",
    "on the current data. To have a model that generalizes better, I will drop (**Euro**, **Einzugsermächtigung** and\n",
    "**Getraenke**) as special cases of the aforementioned (or maybe just mean the same). You can verify if you look at the \n",
    "distribution plotted earlier. "
   ]
  },
  {
   "cell_type": "code",
   "execution_count": 24,
   "metadata": {
    "pycharm": {
     "is_executing": false,
     "metadata": false,
     "name": "#%%\n"
    }
   },
   "outputs": [
    {
     "data": {
      "text/html": [
       "<div>\n",
       "<style scoped>\n",
       "    .dataframe tbody tr th:only-of-type {\n",
       "        vertical-align: middle;\n",
       "    }\n",
       "\n",
       "    .dataframe tbody tr th {\n",
       "        vertical-align: top;\n",
       "    }\n",
       "\n",
       "    .dataframe thead th {\n",
       "        text-align: right;\n",
       "    }\n",
       "</style>\n",
       "<table border=\"1\" class=\"dataframe\">\n",
       "  <thead>\n",
       "    <tr style=\"text-align: right;\">\n",
       "      <th></th>\n",
       "      <th>abonnement</th>\n",
       "      <th>abschlag</th>\n",
       "      <th>abschluss</th>\n",
       "      <th>aenderungen</th>\n",
       "      <th>amazon</th>\n",
       "      <th>ankenvers</th>\n",
       "      <th>apotheke</th>\n",
       "      <th>aramark</th>\n",
       "      <th>ausland</th>\n",
       "      <th>auslandsrei</th>\n",
       "      <th>...</th>\n",
       "      <th>strom</th>\n",
       "      <th>style</th>\n",
       "      <th>ticket</th>\n",
       "      <th>travelsecure</th>\n",
       "      <th>ueberweisung</th>\n",
       "      <th>umbuchung</th>\n",
       "      <th>urlaub</th>\n",
       "      <th>verfall</th>\n",
       "      <th>visa</th>\n",
       "      <th>zalando</th>\n",
       "    </tr>\n",
       "  </thead>\n",
       "  <tbody>\n",
       "    <tr>\n",
       "      <th>0</th>\n",
       "      <td>0</td>\n",
       "      <td>0</td>\n",
       "      <td>0</td>\n",
       "      <td>0</td>\n",
       "      <td>0</td>\n",
       "      <td>0</td>\n",
       "      <td>0</td>\n",
       "      <td>0</td>\n",
       "      <td>0</td>\n",
       "      <td>0</td>\n",
       "      <td>...</td>\n",
       "      <td>0</td>\n",
       "      <td>0</td>\n",
       "      <td>0</td>\n",
       "      <td>0</td>\n",
       "      <td>0</td>\n",
       "      <td>0</td>\n",
       "      <td>0</td>\n",
       "      <td>0</td>\n",
       "      <td>0</td>\n",
       "      <td>0</td>\n",
       "    </tr>\n",
       "    <tr>\n",
       "      <th>1</th>\n",
       "      <td>0</td>\n",
       "      <td>0</td>\n",
       "      <td>0</td>\n",
       "      <td>0</td>\n",
       "      <td>0</td>\n",
       "      <td>0</td>\n",
       "      <td>0</td>\n",
       "      <td>0</td>\n",
       "      <td>0</td>\n",
       "      <td>0</td>\n",
       "      <td>...</td>\n",
       "      <td>0</td>\n",
       "      <td>0</td>\n",
       "      <td>0</td>\n",
       "      <td>0</td>\n",
       "      <td>0</td>\n",
       "      <td>0</td>\n",
       "      <td>0</td>\n",
       "      <td>0</td>\n",
       "      <td>0</td>\n",
       "      <td>0</td>\n",
       "    </tr>\n",
       "    <tr>\n",
       "      <th>2</th>\n",
       "      <td>0</td>\n",
       "      <td>0</td>\n",
       "      <td>0</td>\n",
       "      <td>0</td>\n",
       "      <td>0</td>\n",
       "      <td>0</td>\n",
       "      <td>0</td>\n",
       "      <td>0</td>\n",
       "      <td>0</td>\n",
       "      <td>0</td>\n",
       "      <td>...</td>\n",
       "      <td>0</td>\n",
       "      <td>0</td>\n",
       "      <td>0</td>\n",
       "      <td>0</td>\n",
       "      <td>0</td>\n",
       "      <td>0</td>\n",
       "      <td>0</td>\n",
       "      <td>0</td>\n",
       "      <td>0</td>\n",
       "      <td>0</td>\n",
       "    </tr>\n",
       "    <tr>\n",
       "      <th>3</th>\n",
       "      <td>0</td>\n",
       "      <td>0</td>\n",
       "      <td>0</td>\n",
       "      <td>0</td>\n",
       "      <td>0</td>\n",
       "      <td>0</td>\n",
       "      <td>0</td>\n",
       "      <td>0</td>\n",
       "      <td>0</td>\n",
       "      <td>0</td>\n",
       "      <td>...</td>\n",
       "      <td>0</td>\n",
       "      <td>0</td>\n",
       "      <td>0</td>\n",
       "      <td>0</td>\n",
       "      <td>0</td>\n",
       "      <td>0</td>\n",
       "      <td>0</td>\n",
       "      <td>0</td>\n",
       "      <td>0</td>\n",
       "      <td>0</td>\n",
       "    </tr>\n",
       "    <tr>\n",
       "      <th>4</th>\n",
       "      <td>0</td>\n",
       "      <td>0</td>\n",
       "      <td>0</td>\n",
       "      <td>0</td>\n",
       "      <td>1</td>\n",
       "      <td>0</td>\n",
       "      <td>0</td>\n",
       "      <td>0</td>\n",
       "      <td>0</td>\n",
       "      <td>0</td>\n",
       "      <td>...</td>\n",
       "      <td>0</td>\n",
       "      <td>0</td>\n",
       "      <td>0</td>\n",
       "      <td>0</td>\n",
       "      <td>0</td>\n",
       "      <td>0</td>\n",
       "      <td>0</td>\n",
       "      <td>0</td>\n",
       "      <td>0</td>\n",
       "      <td>0</td>\n",
       "    </tr>\n",
       "  </tbody>\n",
       "</table>\n",
       "<p>5 rows × 80 columns</p>\n",
       "</div>"
      ],
      "text/plain": [
       "   abonnement  abschlag  abschluss  aenderungen  amazon  ankenvers  apotheke  \\\n",
       "0           0         0          0            0       0          0         0   \n",
       "1           0         0          0            0       0          0         0   \n",
       "2           0         0          0            0       0          0         0   \n",
       "3           0         0          0            0       0          0         0   \n",
       "4           0         0          0            0       1          0         0   \n",
       "\n",
       "   aramark  ausland  auslandsrei  ...  strom  style  ticket  travelsecure  \\\n",
       "0        0        0            0  ...      0      0       0             0   \n",
       "1        0        0            0  ...      0      0       0             0   \n",
       "2        0        0            0  ...      0      0       0             0   \n",
       "3        0        0            0  ...      0      0       0             0   \n",
       "4        0        0            0  ...      0      0       0             0   \n",
       "\n",
       "   ueberweisung  umbuchung  urlaub  verfall  visa  zalando  \n",
       "0             0          0       0        0     0        0  \n",
       "1             0          0       0        0     0        0  \n",
       "2             0          0       0        0     0        0  \n",
       "3             0          0       0        0     0        0  \n",
       "4             0          0       0        0     0        0  \n",
       "\n",
       "[5 rows x 80 columns]"
      ]
     },
     "execution_count": 24,
     "metadata": {},
     "output_type": "execute_result"
    }
   ],
   "source": [
    "vzAndBTextDF = vzAndBTextDF.drop(columns=[\"euro\", \"einzugsermaechtigung\", \"getraenke\"])\n",
    "vzAndBTextDF.head()"
   ]
  },
  {
   "cell_type": "markdown",
   "metadata": {
    "pycharm": {
     "metadata": false,
     "name": "#%% md\n"
    }
   },
   "source": [
    "The last raw feature is **Beguenstigter/Zahlungspflichtiger**. We are simply going to exclude this feature. Here is why:\n",
    "* A name either belongs to a natural or legal person. This characteristic is partly handled by the keyword **Lastschrift**\n",
    "since natural persons in europe very rare get SEPA Lastschrift. In other words, having the key word Lastschrift implicitly\n",
    "mean the row transaction is for/from a company or firm.\n",
    "* Another way to solve this would be to run Named Entity Recognition over the reference name column \n",
    "(**Beguenstigter/Zahlungspflichtiger**). I tried this indeed with **Zalando Flair** an Natural Language Processing\n",
    "Library and had a percentage decrease of roughly **7%** (This could have been dependent on the run, but my assumption is\n",
    "that keeping the names might just lead to overfitting. With more data, keeping it could have been an option).\n",
    "Moreover, since **Flair** uses deep learning to extract entities,\n",
    "it takes too much time. Hence I deleted it from this pipeline."
   ]
  },
  {
   "cell_type": "markdown",
   "metadata": {
    "pycharm": {
     "metadata": false,
     "name": "#%% md\n"
    }
   },
   "source": [
    "The operation above cost a lot of computational resources. This operation can thus be skipped to improve performance.\n",
    "However, take note that the **isPersonalTransaction** feature will be absent when training.\n",
    "Furthermore note that a name can be wrongly classified as person (e.g \"Bargeld\"), but my assumption is that binary \n",
    "values should generalize better than a long list of names."
   ]
  },
  {
   "cell_type": "markdown",
   "metadata": {
    "pycharm": {
     "metadata": false,
     "name": "#%% md\n"
    }
   },
   "source": [
    "Now we combine the features to get our final data frame"
   ]
  },
  {
   "cell_type": "code",
   "execution_count": 25,
   "metadata": {
    "pycharm": {
     "is_executing": false,
     "metadata": false,
     "name": "#%%\n"
    }
   },
   "outputs": [
    {
     "data": {
      "text/html": [
       "<div>\n",
       "<style scoped>\n",
       "    .dataframe tbody tr th:only-of-type {\n",
       "        vertical-align: middle;\n",
       "    }\n",
       "\n",
       "    .dataframe tbody tr th {\n",
       "        vertical-align: top;\n",
       "    }\n",
       "\n",
       "    .dataframe thead th {\n",
       "        text-align: right;\n",
       "    }\n",
       "</style>\n",
       "<table border=\"1\" class=\"dataframe\">\n",
       "  <thead>\n",
       "    <tr style=\"text-align: right;\">\n",
       "      <th></th>\n",
       "      <th>sinOfDayOfMonth</th>\n",
       "      <th>cosOfDayOfMonth</th>\n",
       "      <th>decimalInAmount</th>\n",
       "      <th>amountSign</th>\n",
       "      <th>absoluteAmount</th>\n",
       "      <th>abonnement</th>\n",
       "      <th>abschlag</th>\n",
       "      <th>abschluss</th>\n",
       "      <th>aenderungen</th>\n",
       "      <th>amazon</th>\n",
       "      <th>...</th>\n",
       "      <th>style</th>\n",
       "      <th>ticket</th>\n",
       "      <th>travelsecure</th>\n",
       "      <th>ueberweisung</th>\n",
       "      <th>umbuchung</th>\n",
       "      <th>urlaub</th>\n",
       "      <th>verfall</th>\n",
       "      <th>visa</th>\n",
       "      <th>zalando</th>\n",
       "      <th>label</th>\n",
       "    </tr>\n",
       "  </thead>\n",
       "  <tbody>\n",
       "    <tr>\n",
       "      <th>0</th>\n",
       "      <td>-0.571268</td>\n",
       "      <td>0.820763</td>\n",
       "      <td>0</td>\n",
       "      <td>1</td>\n",
       "      <td>7.600902</td>\n",
       "      <td>0</td>\n",
       "      <td>0</td>\n",
       "      <td>0</td>\n",
       "      <td>0</td>\n",
       "      <td>0</td>\n",
       "      <td>...</td>\n",
       "      <td>0</td>\n",
       "      <td>0</td>\n",
       "      <td>0</td>\n",
       "      <td>0</td>\n",
       "      <td>0</td>\n",
       "      <td>0</td>\n",
       "      <td>0</td>\n",
       "      <td>0</td>\n",
       "      <td>0</td>\n",
       "      <td>1</td>\n",
       "    </tr>\n",
       "    <tr>\n",
       "      <th>1</th>\n",
       "      <td>-0.724793</td>\n",
       "      <td>0.688967</td>\n",
       "      <td>0</td>\n",
       "      <td>0</td>\n",
       "      <td>6.507278</td>\n",
       "      <td>0</td>\n",
       "      <td>0</td>\n",
       "      <td>0</td>\n",
       "      <td>0</td>\n",
       "      <td>0</td>\n",
       "      <td>...</td>\n",
       "      <td>0</td>\n",
       "      <td>0</td>\n",
       "      <td>0</td>\n",
       "      <td>0</td>\n",
       "      <td>0</td>\n",
       "      <td>0</td>\n",
       "      <td>0</td>\n",
       "      <td>0</td>\n",
       "      <td>0</td>\n",
       "      <td>3</td>\n",
       "    </tr>\n",
       "    <tr>\n",
       "      <th>2</th>\n",
       "      <td>-0.897805</td>\n",
       "      <td>-0.440394</td>\n",
       "      <td>0</td>\n",
       "      <td>0</td>\n",
       "      <td>4.248495</td>\n",
       "      <td>0</td>\n",
       "      <td>0</td>\n",
       "      <td>0</td>\n",
       "      <td>0</td>\n",
       "      <td>0</td>\n",
       "      <td>...</td>\n",
       "      <td>0</td>\n",
       "      <td>0</td>\n",
       "      <td>0</td>\n",
       "      <td>0</td>\n",
       "      <td>0</td>\n",
       "      <td>0</td>\n",
       "      <td>0</td>\n",
       "      <td>0</td>\n",
       "      <td>0</td>\n",
       "      <td>4</td>\n",
       "    </tr>\n",
       "    <tr>\n",
       "      <th>3</th>\n",
       "      <td>-0.790776</td>\n",
       "      <td>-0.612106</td>\n",
       "      <td>1</td>\n",
       "      <td>0</td>\n",
       "      <td>4.293332</td>\n",
       "      <td>0</td>\n",
       "      <td>0</td>\n",
       "      <td>0</td>\n",
       "      <td>0</td>\n",
       "      <td>0</td>\n",
       "      <td>...</td>\n",
       "      <td>0</td>\n",
       "      <td>0</td>\n",
       "      <td>0</td>\n",
       "      <td>0</td>\n",
       "      <td>0</td>\n",
       "      <td>0</td>\n",
       "      <td>0</td>\n",
       "      <td>0</td>\n",
       "      <td>0</td>\n",
       "      <td>5</td>\n",
       "    </tr>\n",
       "    <tr>\n",
       "      <th>4</th>\n",
       "      <td>-0.485302</td>\n",
       "      <td>-0.874347</td>\n",
       "      <td>0</td>\n",
       "      <td>0</td>\n",
       "      <td>5.894403</td>\n",
       "      <td>0</td>\n",
       "      <td>0</td>\n",
       "      <td>0</td>\n",
       "      <td>0</td>\n",
       "      <td>1</td>\n",
       "      <td>...</td>\n",
       "      <td>0</td>\n",
       "      <td>0</td>\n",
       "      <td>0</td>\n",
       "      <td>0</td>\n",
       "      <td>0</td>\n",
       "      <td>0</td>\n",
       "      <td>0</td>\n",
       "      <td>0</td>\n",
       "      <td>0</td>\n",
       "      <td>2</td>\n",
       "    </tr>\n",
       "  </tbody>\n",
       "</table>\n",
       "<p>5 rows × 86 columns</p>\n",
       "</div>"
      ],
      "text/plain": [
       "   sinOfDayOfMonth  cosOfDayOfMonth  decimalInAmount  amountSign  \\\n",
       "0        -0.571268         0.820763                0           1   \n",
       "1        -0.724793         0.688967                0           0   \n",
       "2        -0.897805        -0.440394                0           0   \n",
       "3        -0.790776        -0.612106                1           0   \n",
       "4        -0.485302        -0.874347                0           0   \n",
       "\n",
       "   absoluteAmount  abonnement  abschlag  abschluss  aenderungen  amazon  ...  \\\n",
       "0        7.600902           0         0          0            0       0  ...   \n",
       "1        6.507278           0         0          0            0       0  ...   \n",
       "2        4.248495           0         0          0            0       0  ...   \n",
       "3        4.293332           0         0          0            0       0  ...   \n",
       "4        5.894403           0         0          0            0       1  ...   \n",
       "\n",
       "   style  ticket  travelsecure  ueberweisung  umbuchung  urlaub  verfall  \\\n",
       "0      0       0             0             0          0       0        0   \n",
       "1      0       0             0             0          0       0        0   \n",
       "2      0       0             0             0          0       0        0   \n",
       "3      0       0             0             0          0       0        0   \n",
       "4      0       0             0             0          0       0        0   \n",
       "\n",
       "   visa  zalando  label  \n",
       "0     0        0      1  \n",
       "1     0        0      3  \n",
       "2     0        0      4  \n",
       "3     0        0      5  \n",
       "4     0        0      2  \n",
       "\n",
       "[5 rows x 86 columns]"
      ]
     },
     "execution_count": 25,
     "metadata": {},
     "output_type": "execute_result"
    }
   ],
   "source": [
    "from sklearn import preprocessing\n",
    "labelEncoder = preprocessing.LabelEncoder()\n",
    "labelEncoder.fit(dataSetWithoutOutlier[\"label\"])\n",
    "encodedLabels = labelEncoder.transform(dataSetWithoutOutlier[\"label\"])\n",
    "labels = pd.DataFrame()\n",
    "labels[\"label\"] = encodedLabels\n",
    "labels[\"label\"] = labels[\"label\"].astype(\"int\")\n",
    "dataWithSelectedFeatures.reset_index(drop=True, inplace=True)\n",
    "vzAndBTextDF.reset_index(drop=True, inplace=True)\n",
    "labels.reset_index(drop=True, inplace=True)\n",
    "finalDataSet = pd.concat([dataWithSelectedFeatures, vzAndBTextDF, labels], axis=1, sort=False)\n",
    "finalDataSet.head()"
   ]
  },
  {
   "cell_type": "markdown",
   "metadata": {
    "pycharm": {
     "metadata": false
    }
   },
   "source": [
    "Now we are done, we export the final data set as csv."
   ]
  },
  {
   "cell_type": "code",
   "execution_count": 26,
   "metadata": {
    "pycharm": {
     "metadata": false,
     "name": "#%%\n"
    }
   },
   "outputs": [],
   "source": [
    "finalDataSet.to_csv(\"./data/ready3_for_training.csv\", index=False)\n"
   ]
  },
  {
   "cell_type": "markdown",
   "metadata": {
    "pycharm": {
     "metadata": false,
     "name": "#%% md\n"
    }
   },
   "source": [
    "### Training\n",
    "* We train our data with a gaussian naive bayes classier."
   ]
  },
  {
   "cell_type": "code",
   "execution_count": 27,
   "metadata": {
    "pycharm": {
     "is_executing": false,
     "metadata": false,
     "name": "#%%\n"
    }
   },
   "outputs": [
    {
     "name": "stdout",
     "output_type": "stream",
     "text": [
      "0.8095238095238095\n",
      "[[13  0  0  0  0  1]\n",
      " [ 0  2  0  0  0  0]\n",
      " [ 0  0 17  0  1  3]\n",
      " [ 0  0  1  0  5  1]\n",
      " [ 0  0  0  0  7  0]\n",
      " [ 0  0  0  0  0 12]]\n"
     ]
    }
   ],
   "source": [
    "PATH_TO_TRAINING_DATA = \"./data/ready3_for_training.csv\"\n",
    "from sklearn.naive_bayes import GaussianNB\n",
    "from sklearn.model_selection import train_test_split\n",
    "from sklearn import metrics\n",
    "from sklearn.metrics import confusion_matrix\n",
    "from sklearn.metrics import classification_report\n",
    "trainingSet = pd.read_csv(PATH_TO_TRAINING_DATA)\n",
    "labelSet = trainingSet[\"label\"].copy()\n",
    "trainingSet = trainingSet.drop(columns=[\"label\"])\n",
    "X_train, X_test, y_train, y_test = train_test_split(trainingSet, labelSet, test_size=0.30, random_state=None)\n",
    "clf = GaussianNB().fit(X_train, y_train)\n",
    "labels_predicted = clf.predict(X_test)\n",
    "print(np.mean(labels_predicted == y_test))\n",
    "print(confusion_matrix(y_test, labels_predicted))"
   ]
  }
 ],
 "metadata": {
  "kernelspec": {
   "display_name": "Python 3",
   "language": "python",
   "name": "python3"
  },
  "language_info": {
   "codemirror_mode": {
    "name": "ipython",
    "version": 3
   },
   "file_extension": ".py",
   "mimetype": "text/x-python",
   "name": "python",
   "nbconvert_exporter": "python",
   "pygments_lexer": "ipython3",
   "version": "3.6.5"
  },
  "stem_cell": {
   "cell_type": "raw",
   "metadata": {
    "pycharm": {
     "metadata": false
    }
   },
   "source": ""
  }
 },
 "nbformat": 4,
 "nbformat_minor": 1
}
